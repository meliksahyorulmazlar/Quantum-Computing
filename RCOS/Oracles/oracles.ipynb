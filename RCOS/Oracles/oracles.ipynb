{
 "cells": [
  {
   "metadata": {},
   "cell_type": "markdown",
   "source": "<h1>Oracles</h1>",
   "id": "8f12e1ae5faced57"
  },
  {
   "metadata": {
    "ExecuteTime": {
     "end_time": "2024-11-22T18:26:07.431990Z",
     "start_time": "2024-11-22T18:26:06.767564Z"
    }
   },
   "cell_type": "code",
   "source": [
    "from qiskit import QuantumCircuit\n",
    "\n",
    "# Create a quantum circuit with 2 qubits and 2 classical bits\n",
    "qc = QuantumCircuit(2, 2)\n",
    "\n",
    "# Step 1: Start with |0> state for the first qubit (target qubit |y>)\n",
    "# The qubits are initialized to |0> by default in Qiskit\n",
    "\n",
    "# Step 2: Initialize the second qubit (|x>) to either |0> or |1>\n",
    "qc.x(1)  # Apply X gate to initialize |x> to |1> (remove this line for |x> = |0>)\n",
    "\n",
    "# Step 3: Apply a CNOT gate with the second qubit as control and first qubit as target\n",
    "qc.cx(1, 0)  # CNOT gate: |y> → |y ⊕ x|\n",
    "\n",
    "# Step 4: Measure each qubit\n",
    "qc.measure(0, 0)  # Measure the first qubit (|y ⊕ x|) into the first classical bit\n",
    "qc.measure(1, 1)  # Measure the second qubit (|x|) into the second classical bit\n",
    "\n",
    "# Visualize the circuit\n",
    "qc.draw(output='mpl')"
   ],
   "id": "e84e6b86f97a8961",
   "outputs": [
    {
     "data": {
      "text/plain": [
       "<Figure size 454.517x284.278 with 1 Axes>"
      ],
      "image/png": "[encoded data removed]"
     },
     "execution_count": 1,
     "metadata": {},
     "output_type": "execute_result"
    }
   ],
   "execution_count": 1
  },
  {
   "metadata": {},
   "cell_type": "markdown",
   "source": "<img src='oracle.png'></img>",
   "id": "5f17e4632d277a0a"
  },
  {
   "metadata": {},
   "cell_type": "markdown",
   "source": "<img src=\"oracle2.png\"></img>",
   "id": "44d5f40cf6b9c052"
  },
  {
   "metadata": {},
   "cell_type": "code",
   "outputs": [],
   "execution_count": null,
   "source": "",
   "id": "3e18c42ff46da90d"
  }
 ],
 "metadata": {
  "kernelspec": {
   "display_name": "Python 3",
   "language": "python",
   "name": "python3"
  },
  "language_info": {
   "codemirror_mode": {
    "name": "ipython",
    "version": 2
   },
   "file_extension": ".py",
   "mimetype": "text/x-python",
   "name": "python",
   "nbconvert_exporter": "python",
   "pygments_lexer": "ipython2",
   "version": "2.7.6"
  }
 },
 "nbformat": 4,
 "nbformat_minor": 5
}
