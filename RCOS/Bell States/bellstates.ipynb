{
 "cells": [
  {
   "cell_type": "markdown",
   "id": "4da2cbfeac6e1297",
   "metadata": {},
   "source": [
    "<h1>Bell States</h1>"
   ]
  },
  {
   "cell_type": "markdown",
   "id": "1c0a4d4ad6510e49",
   "metadata": {},
   "source": [
    "<p>Bell states are the four states that can be created when two qubits are maximally entangled. The four states are represented as so:</p>\n",
    "\n",
    "\n",
    "1. [Phi Plus](#1)\n",
    "2. [Phi Minus](#2)\n",
    "3. [Psi Plus](#3)\n",
    "4. [Psi Minus](#psiminus)"
   ]
  },
  {
   "cell_type": "markdown",
   "id": "cef3524b3f93a56e",
   "metadata": {},
   "source": [
    "<img src=\"bell_states.png\"></img>"
   ]
  },
  {
   "cell_type": "markdown",
   "id": "1d0db6d8ebf2e214",
   "metadata": {},
   "source": [
    "<a id=\"1\"></a>\n",
    "<h2>1)  <b>&#124;&phi;<sup>+</sup>&#8250;</b> State</h2>"
   ]
  },
  {
   "cell_type": "markdown",
   "id": "9a64bad07d6d7d99",
   "metadata": {},
   "source": [
    "<img src=\"phi_plus.png\"></img>"
   ]
  },
  {
   "cell_type": "markdown",
   "id": "d0ca449a17cf794b",
   "metadata": {},
   "source": [
    "<img src=\"composer_phi_plus.png\"></img>"
   ]
  },
  {
   "cell_type": "markdown",
   "id": "989fe482a5755546",
   "metadata": {},
   "source": [
    "<a id=\"2\"></a>\n",
    "<h2>2)  <b>&#124;&phi;<sup>-</sup>&#8250;</b> State</h2>"
   ]
  },
  {
   "cell_type": "markdown",
   "id": "31e036d29ff7cc8e",
   "metadata": {},
   "source": [
    "<img src=\"phi_minus.png\"></img>"
   ]
  },
  {
   "cell_type": "markdown",
   "id": "234f5cf8b9e48edb",
   "metadata": {},
   "source": [
    "<img src=\"composer_phi_minus.png\"></img>"
   ]
  },
  {
   "cell_type": "markdown",
   "id": "383405fe93329ca5",
   "metadata": {},
   "source": [
    "<a id=\"3\"></a>\n",
    "<h2>3)  <b>&#124;&psi;<sup>+</sup>&#8250;</b> State</h2>"
   ]
  },
  {
   "cell_type": "markdown",
   "id": "ac30276004998004",
   "metadata": {},
   "source": [
    "<img src=\"psi_plus.png\"></img>"
   ]
  },
  {
   "cell_type": "markdown",
   "id": "69e2fe1b50280877",
   "metadata": {},
   "source": [
    "<img src=\"composer_psi_plus.png\"></img>"
   ]
  },
  {
   "cell_type": "markdown",
   "id": "a5f4d7615f4009c2",
   "metadata": {},
   "source": [
    "<a id=\"psiminus\"></a>\n",
    "<h2>4) <b>&#124;&psi;<sup>-</sup>&#8250;</b> State</h2>"
   ]
  },
  {
   "cell_type": "markdown",
   "id": "bc00cb7bf997620",
   "metadata": {},
   "source": [
    "<img src=\"psi_minus.png\"></img>"
   ]
  },
  {
   "cell_type": "markdown",
   "id": "73300036b527c230",
   "metadata": {},
   "source": [
    "<img src=\"composer_phi_minus.png\"></img>"
   ]
  }
 ],
 "metadata": {
  "kernelspec": {
   "display_name": "Python 3 (ipykernel)",
   "language": "python",
   "name": "python3"
  },
  "language_info": {
   "codemirror_mode": {
    "name": "ipython",
    "version": 3
   },
   "file_extension": ".py",
   "mimetype": "text/x-python",
   "name": "python",
   "nbconvert_exporter": "python",
   "pygments_lexer": "ipython3",
   "version": "3.12.3"
  }
 },
 "nbformat": 4,
 "nbformat_minor": 5
}
