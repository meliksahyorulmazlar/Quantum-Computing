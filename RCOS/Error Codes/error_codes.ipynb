{
 "cells": [
  {
   "metadata": {},
   "cell_type": "markdown",
   "source": "<h1>Error Codes</h1>",
   "id": "bf2e01fdb5843856"
  },
  {
   "metadata": {
    "ExecuteTime": {
     "end_time": "2024-11-22T18:22:11.364677Z",
     "start_time": "2024-11-22T18:22:11.255635Z"
    }
   },
   "cell_type": "code",
   "source": [
    "from qiskit import QuantumCircuit\n",
    "\n",
    "# Create a quantum circuit with 3 qubits and 1 classical bit for measurement\n",
    "qc = QuantumCircuit(3, 1)\n",
    "\n",
    "# Step 1: Showcase simple error\n",
    "# Initialize the qubits in the |00⟩ state \n",
    "\n",
    "# Apply X gate to the second qubit to simulate a bit flip error\n",
    "qc.x(1)  # Apply X gate to qubit 1 (second qubit)\n",
    "\n",
    "# Step 2: Construct simple error detection (parity checking)\n",
    "# Add parity checking using a third qubit (ancilla)\n",
    "\n",
    "# Apply CNOT with qubit 0 (first qubit) as control and qubit 2 (third qubit) as target\n",
    "qc.cx(0, 2)  \n",
    "\n",
    "# Apply CNOT with qubit 1 (second qubit) as control and qubit 2 (third qubit) as target\n",
    "qc.cx(1, 2)  \n",
    "\n",
    "#Measure the ancilla qubit\n",
    "qc.measure(2, 0)  \n",
    "\n",
    "# Visualize the circuit\n",
    "qc.draw(output='mpl')\n",
    "\n"
   ],
   "id": "6a9b8ac0ee51601e",
   "outputs": [
    {
     "data": {
      "text/plain": [
       "<Figure size 454.719x367.889 with 1 Axes>"
      ],
      "image/png": "[encoded data removed]"
     },
     "execution_count": 5,
     "metadata": {},
     "output_type": "execute_result"
    }
   ],
   "execution_count": 5
  },
  {
   "metadata": {},
   "cell_type": "markdown",
   "source": "<img src=\"error_codes.png\"></img>",
   "id": "b0f7c23eab630336"
  },
  {
   "metadata": {},
   "cell_type": "markdown",
   "source": "<img src=\"error_codes_measurement.png\"></img>",
   "id": "d206e20cb3979a4e"
  },
  {
   "metadata": {},
   "cell_type": "code",
   "outputs": [],
   "execution_count": null,
   "source": "",
   "id": "371fd822d195b833"
  }
 ],
 "metadata": {
  "kernelspec": {
   "display_name": "Python 3",
   "language": "python",
   "name": "python3"
  },
  "language_info": {
   "codemirror_mode": {
    "name": "ipython",
    "version": 2
   },
   "file_extension": ".py",
   "mimetype": "text/x-python",
   "name": "python",
   "nbconvert_exporter": "python",
   "pygments_lexer": "ipython2",
   "version": "2.7.6"
  }
 },
 "nbformat": 4,
 "nbformat_minor": 5
}
