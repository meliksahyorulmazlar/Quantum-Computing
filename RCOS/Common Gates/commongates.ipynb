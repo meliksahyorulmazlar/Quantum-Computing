{
 "cells": [
  {
   "metadata": {},
   "cell_type": "markdown",
   "source": "<h1 style='color:red'>Common Quantum Computing Gates</h1>",
   "id": "adfcaaf01bdcdbe1"
  },
  {
   "metadata": {},
   "cell_type": "markdown",
   "source": [
    "<p>In this notebook, we’ll explore some of the most commonly used quantum gates, such as the X, Y, Z, I,\n",
    " Hadamard (H), S and T gates. These gates are the fundamental building blocks for quantum computing, and each has unique properties and applications in quantum algorithms.</p>"
   ],
   "id": "d7b3086156e4de59"
  },
  {
   "metadata": {},
   "cell_type": "markdown",
   "source": [
    "<h2>Quick Summary of the Quantum Computing Gates</h2>\n",
    "<img src=\"quick_summary.jpeg\"></img>"
   ],
   "id": "bfcbc6119df44b68"
  },
  {
   "metadata": {},
   "cell_type": "markdown",
   "source": "<h2>Pauli X Gate (X Gate)</h2>",
   "id": "d715f1f3dcee250c"
  },
  {
   "metadata": {},
   "cell_type": "markdown",
   "source": "<p>Description: The X gate is also known as the \"NOT\" gate in classical computing. It flips the state of a qubit. If a qubit is in state |0⟩, applying the X gate changes it to |1⟩, and vice versa.</p>\n",
   "id": "6d239908b7839c2d"
  },
  {
   "metadata": {},
   "cell_type": "markdown",
   "source": [
    "The Pauli-X matrix is given by:\n",
    "\n",
    "$$\n",
    "X = \\begin{pmatrix} 0 & 1 \\\\ 1 & 0 \\end{pmatrix}\n",
    "$$\n"
   ],
   "id": "5887a99b3f8f8c15"
  },
  {
   "metadata": {},
   "cell_type": "markdown",
   "source": [
    "Bloch Sphere Effect:The X gate performs a rotation by π radians around the X-axis on the Bloch sphere.\n",
    "$$\n",
    "\\( X |0\\rangle = |1\\rangle \\)\n",
    "$$\n",
    "$$\n",
    "\\( X |1\\rangle = |0\\rangle \\)\n",
    "$$\n"
   ],
   "id": "2b78a7086bc5b6d0"
  },
  {
   "metadata": {},
   "cell_type": "markdown",
   "source": [
    "<h6>Measurement of the resulting state starting from ket zero:</h6>\n",
    "<img src=\"x_measurement.jpeg\"></img>"
   ],
   "id": "b831795a922a87b4"
  },
  {
   "metadata": {},
   "cell_type": "markdown",
   "source": "<img src='x_gate.jpeg'></img>",
   "id": "fda4c24367591cd5"
  },
  {
   "metadata": {},
   "cell_type": "markdown",
   "source": "<h2>Pauli Y Gate (Y Gate)</h2>",
   "id": "42fc02b86ec4a2f0"
  },
  {
   "metadata": {},
   "cell_type": "markdown",
   "source": "<p>Description: The Y gate performs a rotation around the Y-axis of the Bloch sphere. It introduces a phase shift of π, and when applied to a qubit in state ∣0⟩, it maps it to i∣1⟩ (with an imaginary unit i), and vice versa with a negative sign.</p>",
   "id": "d4205f5fa4326ce3"
  },
  {
   "metadata": {},
   "cell_type": "markdown",
   "source": [
    "The Pauli-Y matrix is given by:\n",
    "\n",
    "$$\n",
    "Y = \\begin{pmatrix} 0 & -i \\\\ i & 0 \\end{pmatrix}\n",
    "$$"
   ],
   "id": "632b9d256dffee71"
  },
  {
   "metadata": {},
   "cell_type": "markdown",
   "source": [
    "<h6>Measurement of the resulting state starting from ket zero:</h6>\n",
    "<img src=\"y_measurement.jpeg\"></img>"
   ],
   "id": "24639b94e4faa3b"
  },
  {
   "metadata": {},
   "cell_type": "markdown",
   "source": [
    "Bloch Sphere Effect: The Y gate rotates the qubit by π radians around the Y-axis, changing the phase of the qubit.\n",
    "$$\n",
    "\\( Y |0\\rangle = i|1\\rangle \\)\n",
    "$$\n",
    "$$\n",
    "\\( Y |1\\rangle = -i|0\\rangle \\)\n",
    "$$"
   ],
   "id": "5f6f3495d0ea5e8d"
  },
  {
   "metadata": {},
   "cell_type": "markdown",
   "source": "<img src='y_gate.jpeg'></img>\n",
   "id": "e34c11ecbc06f18f"
  },
  {
   "metadata": {},
   "cell_type": "markdown",
   "source": "<h2>Pauli Z gate (Z Gate)</h2>",
   "id": "588fec38b1560939"
  },
  {
   "metadata": {},
   "cell_type": "markdown",
   "source": "<p>Description: The Z gate is also known as the \"phase-flip\" gate. It leaves the ∣0⟩ state unchanged but flips the phase of the ∣1⟩ state. This gate is crucial for adding phase shifts to quantum states.</p>",
   "id": "b2cad4b175a55a96"
  },
  {
   "metadata": {},
   "cell_type": "markdown",
   "source": [
    "The Pauli-Z matrix is given by:\n",
    "\n",
    "$$\n",
    "Z = \\begin{pmatrix} 1 & 0 \\\\ 0 & -1 \\end{pmatrix}\n",
    "$$"
   ],
   "id": "34e4c4b2d2e5cbc5"
  },
  {
   "metadata": {},
   "cell_type": "markdown",
   "source": [
    "Bloch Sphere Effect: The Z gate rotates the qubit by π radians around the Z-axis, effectively flipping the phase of the ∣1⟩ component of the qubit.\n",
    "$$\n",
    "\\( Z |0\\rangle = |0\\rangle \\)\n",
    "$$\n",
    "$$\n",
    "\\( Z |1\\rangle = -|1\\rangle \\)\n",
    "$$"
   ],
   "id": "174eef2fc3a4de67"
  },
  {
   "metadata": {},
   "cell_type": "markdown",
   "source": [
    "<h6>Measurement of the resulting state starting from ket zero:</h6>\n",
    "<img src=\"z_measurement.jpeg\"></img>"
   ],
   "id": "acf6ee5f7766e6e4"
  },
  {
   "metadata": {},
   "cell_type": "markdown",
   "source": "<img src='z_gate.jpeg'></img>",
   "id": "3e643d92661d2736"
  },
  {
   "metadata": {},
   "cell_type": "markdown",
   "source": "<h2>Hadamard Gate (H Gate)</h2>",
   "id": "6b030e8abe3bb67c"
  },
  {
   "metadata": {},
   "cell_type": "markdown",
   "source": "<p>Description: The Hadamard gate creates superposition. When applied to a qubit in the ∣0⟩ state, it places the qubit in an equal superposition of ∣0⟩ and ∣1⟩. When applied to a qubit in the ∣1⟩ state, it also creates an equal superposition but with a phase difference.</p>",
   "id": "de64a0b4c6d2cf24"
  },
  {
   "metadata": {},
   "cell_type": "markdown",
   "source": [
    "The Hadamard gate is represented by the matrix:\n",
    "\n",
    "$$\n",
    "H = \\frac{1}{\\sqrt{2}} \\begin{pmatrix} 1 & 1 \\\\ 1 & -1 \\end{pmatrix}\n",
    "$$\n",
    "$$\n",
    "H|0\\rangle = \\frac{1}{\\sqrt{2}} (|0\\rangle + |1\\rangle) = |+\\rangle\n",
    "$$\n",
    "\n",
    "$$\n",
    "H|1\\rangle = \\frac{1}{\\sqrt{2}} (|0\\rangle - |1\\rangle) = |-\\rangle\n",
    "$$\n",
    "\n"
   ],
   "id": "ab0b87e70682e5c4"
  },
  {
   "metadata": {},
   "cell_type": "markdown",
   "source": "<p>Bloch Sphere: The H gate rotates the qubit to a point on the X-Z plane of the Bloch sphere, effectively creating a superposition state.</p>",
   "id": "a2d17fae53da4393"
  },
  {
   "metadata": {},
   "cell_type": "markdown",
   "source": [
    "<h6>Measurement of the resulting state starting from ket zero:</h6>\n",
    "<img src=\"h_measurement.jpeg\"></img>"
   ],
   "id": "da7b92985a93449d"
  },
  {
   "metadata": {},
   "cell_type": "markdown",
   "source": "<img src=\"h_gate.jpeg\"></img>",
   "id": "d81161d1657af25a"
  },
  {
   "metadata": {},
   "cell_type": "markdown",
   "source": "<h2>Identity Gate (I Gate)</h2>",
   "id": "e4fd192495ef2c2"
  },
  {
   "metadata": {},
   "cell_type": "markdown",
   "source": "<p>Description: The Identity gate leaves the qubit unchanged. It is often used as a placeholder in circuits or to indicate no operation on a qubit for a specific step.</p>",
   "id": "ea118426a1da8113"
  },
  {
   "metadata": {},
   "cell_type": "markdown",
   "source": [
    "The Hadamard gate is represented by the matrix:\n",
    "\n",
    "$$\n",
    "I =  \\begin{pmatrix} 1 & 0 \\\\ 0 & 1 \\end{pmatrix}\n",
    "$$\n"
   ],
   "id": "d8c3b3e6543f04cb"
  },
  {
   "metadata": {},
   "cell_type": "markdown",
   "source": [
    "Bloch Sphere Effect: The I gate has no effect on the qubit’s state or position on the Bloch sphere..\n",
    "$$\n",
    "\\( I |0\\rangle = |0\\rangle \\)\n",
    "$$\n",
    "$$\n",
    "\\( I |1\\rangle = |1\\rangle \\)\n",
    "$$\n"
   ],
   "id": "367543d8517d0d9d"
  },
  {
   "metadata": {},
   "cell_type": "markdown",
   "source": [
    "<h6>Measurement of the resulting state starting from ket zero:</h6>\n",
    "<img src=\"i_measurement.jpeg\"></img>"
   ],
   "id": "4f6cb3afd8bc86fa"
  },
  {
   "metadata": {},
   "cell_type": "markdown",
   "source": "<img src='i_gate.jpeg'></img>",
   "id": "4a6f8dd03b2c8b65"
  },
  {
   "metadata": {},
   "cell_type": "markdown",
   "source": "<h2>S Gate (Phase Gate)</h2>",
   "id": "8094d935dd5c188c"
  },
  {
   "metadata": {},
   "cell_type": "markdown",
   "source": "<p>Description: The S gate is a phase gate that applies a phase shift of π/2 (90 degrees) to the ∣1⟩ state. It leaves the ∣0⟩ state unchanged but adds a phase of π/2 to the ∣1⟩ state.</p>",
   "id": "76dadaab0e96586b"
  },
  {
   "metadata": {},
   "cell_type": "markdown",
   "source": [
    "The S gate is represented by the matrix:\n",
    "\n",
    "$$\n",
    "S =  \\begin{pmatrix} 1 & 0 \\\\ 0 & i \\end{pmatrix}\n",
    "$$\n"
   ],
   "id": "316436bfe5e54b48"
  },
  {
   "metadata": {},
   "cell_type": "markdown",
   "source": [
    "Bloch Sphere Effect: The S gate performs a π/2 rotation around the Z-axis, adding a 90-degree phase shift to the ∣1⟩ component.\n",
    "$$\n",
    "\\( S |0\\rangle = |0\\rangle \\)\n",
    "$$\n",
    "$$\n",
    "\\( S |1\\rangle = i|1\\rangle \\)\n",
    "$$\n"
   ],
   "id": "4ae6998376dd4e57"
  },
  {
   "metadata": {},
   "cell_type": "markdown",
   "source": [
    "<h6>Measurement of the resulting state starting from ket one:</h6>\n",
    "<img src=\"s_measurement.jpeg\"></img>"
   ],
   "id": "356b0e7097599283"
  },
  {
   "metadata": {},
   "cell_type": "markdown",
   "source": "<img src=\"s_gate.jpeg\"></img>",
   "id": "be9c4d1759dd3032"
  },
  {
   "metadata": {},
   "cell_type": "markdown",
   "source": "<h2>T Gate (π/8 Gate)</h2>",
   "id": "1cccffb2719e5e0f"
  },
  {
   "metadata": {},
   "cell_type": "markdown",
   "source": "<p>Description: The T gate, also known as the π/8 gate, applies a phase shift of π/4 (45 degrees) to the ∣1⟩ state. It’s a smaller phase shift than the S gate and is essential for certain quantum algorithms.",
   "id": "9a69e9312955c59d"
  },
  {
   "metadata": {},
   "cell_type": "markdown",
   "source": [
    "The T gate is represented by the matrix:\n",
    "\n",
    "$$\n",
    "T =  \\begin{pmatrix} 1 & 0 \\\\ 0 & e^{\\frac{i\\pi}{4}} \\end{pmatrix} = \\begin{pmatrix} 1 & 0 \\\\ 0 & \\frac{i+1}{\\sqrt{2}} \\end{pmatrix}\n",
    "$$\n"
   ],
   "id": "3e6816740c69c09f"
  },
  {
   "metadata": {},
   "cell_type": "markdown",
   "source": [
    "Bloch Sphere Effect: The T gate performs a π/4 rotation around the Z-axis, adding a 45-degree phase shift to the ∣1⟩ component.\n",
    "$$\n",
    "\\( T |0\\rangle = |0\\rangle \\)\n",
    "$$\n",
    "$$\n",
    "\\( T |1\\rangle = e^{\\frac{i\\pi}{4}}|1\\rangle \\)\n",
    "$$\n"
   ],
   "id": "2d02e164c357ad42"
  },
  {
   "metadata": {},
   "cell_type": "markdown",
   "source": [
    "<h6>Measurement of the resulting state starting from ket one:</h6>\n",
    "<img src=\"t_measurement.jpeg\"></img>"
   ],
   "id": "143f078ce2c0c2a1"
  },
  {
   "metadata": {},
   "cell_type": "markdown",
   "source": "<img src='t_gate.jpeg'></img>",
   "id": "c98f396513ada17a"
  },
  {
   "metadata": {},
   "cell_type": "markdown",
   "source": [
    "<h2>More Quantum Computing Gate Notes</h2>\n",
    "<img src=\"Quantum_Logic_Gates.png\"></img>"
   ],
   "id": "129a70d29b1fb2e0"
  },
  {
   "metadata": {},
   "cell_type": "code",
   "outputs": [],
   "execution_count": null,
   "source": "",
   "id": "4ed97a4e2b7ad4b4"
  }
 ],
 "metadata": {
  "kernelspec": {
   "display_name": "Python 3",
   "language": "python",
   "name": "python3"
  },
  "language_info": {
   "codemirror_mode": {
    "name": "ipython",
    "version": 2
   },
   "file_extension": ".py",
   "mimetype": "text/x-python",
   "name": "python",
   "nbconvert_exporter": "python",
   "pygments_lexer": "ipython2",
   "version": "2.7.6"
  }
 },
 "nbformat": 4,
 "nbformat_minor": 5
}
