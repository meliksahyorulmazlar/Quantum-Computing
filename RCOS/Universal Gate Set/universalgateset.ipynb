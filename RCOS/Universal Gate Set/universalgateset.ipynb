{
 "cells": [
  {
   "metadata": {},
   "cell_type": "markdown",
   "source": "<h1>Universal Gate Set</h1>",
   "id": "eea487e180a18c37"
  },
  {
   "metadata": {},
   "cell_type": "markdown",
   "source": [
    "<h2>1) Definition</h2>\n",
    "<p>A set of quantum gates that allows us to approximate any quantum gate to any desired precision is called a universal gate set.</p>"
   ],
   "id": "af3c85b545cabbb7"
  },
  {
   "metadata": {},
   "cell_type": "markdown",
   "source": [
    "<h2>2) Components of a Universal Gate Set</h2>\n",
    "<p>There are several components that we need for a set of quantum gates to be universal.</p>"
   ],
   "id": "27801288ce504af7"
  },
  {
   "metadata": {},
   "cell_type": "markdown",
   "source": [
    "<p>1. Superposition. We must be able to produce superpositions. For example the Hadamard gate can create superpositions, such as H|0⟩ = |+⟩. Other gates are not. Z, S, and T only apply phases; they do not create superpositions of |0⟩ and |1⟩. Similarly, the X and CNOT gates only flip |0⟩ and |1⟩, so they cannot create superpositions. Y only applies phases and flips, so again superpositions cannot be created by it.</p>\n",
    "<p>2. Entanglement. We must be able to entangle qubits. One-qubit gates, such as H, cannot do this since they only act on a single qubit. A gate must act on at least two qubits to produce entanglement. CNOT can produce entanglement since CNOT|+⟩|0⟩ = <span>|&Phi;<sup>+</sup>&rang;</span>. Not all two qubit gates produce entanglement, however. The SWAP gate cannot generate entanglement since it only swaps two qubits.</p>\n",
    "<p>3. Complex amplitudes. CNOT and H only contain real numbers, so they do not produce states with complex amplitudes.</p>\n",
    "<p>4. Generate more than the Clifford group. Clifford gates with T gates are universal.</p>"
   ],
   "id": "90cc42fb0e94ca0"
  },
  {
   "metadata": {},
   "cell_type": "markdown",
   "source": "<h2>3) Constructing Quantum Gates by Universal Gates</h2>",
   "id": "95555dcc9f101110"
  },
  {
   "metadata": {},
   "cell_type": "markdown",
   "source": "<p>We will be using the CNOT,Hadamard(H),T gates to construct the Pauli X,Pauli Y and Toffoli quantum gates.</p>",
   "id": "bfea3bf58503410e"
  },
  {
   "metadata": {},
   "cell_type": "markdown",
   "source": "<h3>3.1) Pauli X</h3>",
   "id": "57ba226dd0c64c36"
  },
  {
   "metadata": {},
   "cell_type": "markdown",
   "source": "<p> We can construct a Pauli X gate by having a Hadamard gate followed by 4 T gates and finally followed by another Hadamard gate.",
   "id": "2110b6431014399b"
  },
  {
   "metadata": {},
   "cell_type": "markdown",
   "source": "<img src=\"x_gate.jpeg\"></img>",
   "id": "f7be2db15f4578ae"
  },
  {
   "metadata": {},
   "cell_type": "markdown",
   "source": "<h3>3.2) Pauli Y</h3>\n",
   "id": "491b020d825a766d"
  },
  {
   "metadata": {},
   "cell_type": "markdown",
   "source": "<p> We can construct a Pauli X gate by having a Hadamard gate followed by 4 T gates,followed by another Hadamard gate and another 2 T gates.</p>\n",
   "id": "7d181c1b73920121"
  },
  {
   "metadata": {},
   "cell_type": "markdown",
   "source": "<img src=\"y_gate.jpeg\"></img>",
   "id": "4b481e35088d38ad"
  },
  {
   "metadata": {},
   "cell_type": "markdown",
   "source": "<h3>3.3)Toffoli Gate</h3>",
   "id": "846434447df74a83"
  },
  {
   "metadata": {},
   "cell_type": "markdown",
   "source": "<p>Construction of a Toffoli Gate is pretty complex..</p>",
   "id": "b94477d5d035da7c"
  },
  {
   "metadata": {},
   "cell_type": "markdown",
   "source": "<img src='toffoli.png'></img>",
   "id": "53eb1a293267d02c"
  },
  {
   "metadata": {},
   "cell_type": "code",
   "outputs": [],
   "execution_count": null,
   "source": "",
   "id": "77f52bb4af668828"
  }
 ],
 "metadata": {
  "kernelspec": {
   "display_name": "Python 3",
   "language": "python",
   "name": "python3"
  },
  "language_info": {
   "codemirror_mode": {
    "name": "ipython",
    "version": 2
   },
   "file_extension": ".py",
   "mimetype": "text/x-python",
   "name": "python",
   "nbconvert_exporter": "python",
   "pygments_lexer": "ipython2",
   "version": "2.7.6"
  }
 },
 "nbformat": 4,
 "nbformat_minor": 5
}
