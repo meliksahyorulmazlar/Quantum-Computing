{
 "cells": [
  {
   "metadata": {},
   "cell_type": "markdown",
   "source": "<h1>GHZ State</h1>",
   "id": "61d6163763b64c0f"
  },
  {
   "metadata": {},
   "cell_type": "markdown",
   "source": "<p>The Greenberger-Horne-Zeilinger (GHZ) state is a specific type of entangled state involving three or more qubits. It represents one of the simplest examples of multipartite entanglement in quantum mechanics.</p>",
   "id": "8ff517573e182474"
  },
  {
   "metadata": {},
   "cell_type": "markdown",
   "source": "<img src=\"ghz_state.png\"></img>",
   "id": "2d0029c0c34d04da"
  },
  {
   "metadata": {},
   "cell_type": "markdown",
   "source": "<img src='composer_ghz_state.png'></img>",
   "id": "555a60fcc6c219b5"
  },
  {
   "metadata": {},
   "cell_type": "code",
   "outputs": [],
   "execution_count": null,
   "source": "",
   "id": "a3920dc08e8744f2"
  }
 ],
 "metadata": {
  "kernelspec": {
   "display_name": "Python 3",
   "language": "python",
   "name": "python3"
  },
  "language_info": {
   "codemirror_mode": {
    "name": "ipython",
    "version": 2
   },
   "file_extension": ".py",
   "mimetype": "text/x-python",
   "name": "python",
   "nbconvert_exporter": "python",
   "pygments_lexer": "ipython2",
   "version": "2.7.6"
  }
 },
 "nbformat": 4,
 "nbformat_minor": 5
}
