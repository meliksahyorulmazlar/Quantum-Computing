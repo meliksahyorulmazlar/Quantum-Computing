{
 "cells": [
  {
   "cell_type": "code",
   "id": "initial_id",
   "metadata": {
    "collapsed": true,
    "ExecuteTime": {
     "end_time": "2024-10-31T05:31:39.182037Z",
     "start_time": "2024-10-31T05:31:39.178576Z"
    }
   },
   "source": [
    "import qiskit,os\n",
    "from qiskit_ibm_runtime import QiskitRuntimeService"
   ],
   "outputs": [],
   "execution_count": 4
  },
  {
   "metadata": {
    "ExecuteTime": {
     "end_time": "2024-10-31T05:31:40.281470Z",
     "start_time": "2024-10-31T05:31:40.277461Z"
    }
   },
   "cell_type": "code",
   "source": "qiskit.__version__",
   "id": "3e10e2d2a7735762",
   "outputs": [
    {
     "data": {
      "text/plain": [
       "'1.3.0b1'"
      ]
     },
     "execution_count": 5,
     "metadata": {},
     "output_type": "execute_result"
    }
   ],
   "execution_count": 5
  },
  {
   "metadata": {
    "ExecuteTime": {
     "end_time": "2024-10-31T05:32:39.679305Z",
     "start_time": "2024-10-31T05:32:34.255188Z"
    }
   },
   "cell_type": "code",
   "source": [
    "with open(\"ibm_key.txt\",\"r\") as f:\n",
    "    key = f.read()\n",
    "service = QiskitRuntimeService(channel=\"ibm_quantum\",token=key)"
   ],
   "id": "cbb937722f2a67a0",
   "outputs": [],
   "execution_count": 6
  },
  {
   "metadata": {
    "ExecuteTime": {
     "end_time": "2024-10-31T05:33:17.304646Z",
     "start_time": "2024-10-31T05:33:07.890542Z"
    }
   },
   "cell_type": "code",
   "source": "service.backends()",
   "id": "59e34e3dbb2b314b",
   "outputs": [
    {
     "data": {
      "text/plain": [
       "[<IBMBackend('ibm_brisbane')>,\n",
       " <IBMBackend('ibm_kyiv')>,\n",
       " <IBMBackend('ibm_nazca')>,\n",
       " <IBMBackend('ibm_rensselaer')>,\n",
       " <IBMBackend('ibm_sherbrooke')>]"
      ]
     },
     "execution_count": 9,
     "metadata": {},
     "output_type": "execute_result"
    }
   ],
   "execution_count": 9
  },
  {
   "metadata": {
    "ExecuteTime": {
     "end_time": "2024-10-31T05:33:42.581100Z",
     "start_time": "2024-10-31T05:33:42.573319Z"
    }
   },
   "cell_type": "code",
   "source": "backend = service.backend(name=\"ibm_rensselaer\")",
   "id": "e83c7e27057c2042",
   "outputs": [],
   "execution_count": 10
  },
  {
   "metadata": {
    "ExecuteTime": {
     "end_time": "2024-10-31T05:33:47.920914Z",
     "start_time": "2024-10-31T05:33:47.913531Z"
    }
   },
   "cell_type": "code",
   "source": "backend.num_qubits",
   "id": "28ba6ac9918e9c83",
   "outputs": [
    {
     "data": {
      "text/plain": [
       "127"
      ]
     },
     "execution_count": 11,
     "metadata": {},
     "output_type": "execute_result"
    }
   ],
   "execution_count": 11
  }
 ],
 "metadata": {
  "kernelspec": {
   "display_name": "Python 3",
   "language": "python",
   "name": "python3"
  },
  "language_info": {
   "codemirror_mode": {
    "name": "ipython",
    "version": 2
   },
   "file_extension": ".py",
   "mimetype": "text/x-python",
   "name": "python",
   "nbconvert_exporter": "python",
   "pygments_lexer": "ipython2",
   "version": "2.7.6"
  }
 },
 "nbformat": 4,
 "nbformat_minor": 5
}
